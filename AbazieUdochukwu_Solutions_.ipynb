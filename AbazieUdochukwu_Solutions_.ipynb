{
  "nbformat": 4,
  "nbformat_minor": 0,
  "metadata": {
    "colab": {
      "name": "AbazieUdochukwu_Solutions .ipynb",
      "provenance": [],
      "collapsed_sections": [],
      "authorship_tag": "ABX9TyMOAviL4M9bQbVSbHhPYNWa",
      "include_colab_link": true
    },
    "kernelspec": {
      "name": "python3",
      "display_name": "Python 3"
    },
    "language_info": {
      "name": "python"
    }
  },
  "cells": [
    {
      "cell_type": "markdown",
      "metadata": {
        "id": "view-in-github",
        "colab_type": "text"
      },
      "source": [
        "<a href=\"https://colab.research.google.com/github/Udo-Eng/HamoyeQuizSolution/blob/master/AbazieUdochukwu_Solutions_.ipynb\" target=\"_parent\"><img src=\"https://colab.research.google.com/assets/colab-badge.svg\" alt=\"Open In Colab\"/></a>"
      ]
    },
    {
      "cell_type": "code",
      "execution_count": 2,
      "metadata": {
        "colab": {
          "base_uri": "https://localhost:8080/"
        },
        "id": "FCLaDJ5P9OxD",
        "outputId": "793f3791-2640-4ff8-e10d-0959c8cdf02a"
      },
      "outputs": [
        {
          "output_type": "stream",
          "name": "stdout",
          "text": [
            "                     Area Code  Item Code  ...      Y2017      Y2018\n",
            "Item                                       ...                      \n",
            "Alcohol, Non-Food        38447     752497  ...    2348.00    2293.00\n",
            "Alcoholic Beverages      75016    1649136  ...   95581.06   97847.27\n",
            "Animal Products          18060     397035  ...   11547.65   11578.61\n",
            "Animal fats              85279    1882494  ...  269617.53  269648.27\n",
            "Apples and products      69280    1352989  ...   10198.90    9640.51\n",
            "...                        ...        ...  ...        ...        ...\n",
            "Vegetables, Other        77779    1518715  ...  157752.59  163987.21\n",
            "Vegetal Products         18060     391905  ...  107655.20  107775.39\n",
            "Wheat and products       87073    1639683  ...  240047.62  242645.19\n",
            "Wine                     66206    1319535  ...    4178.02    4039.32\n",
            "Yams                     50798     970905  ...  229174.59  221272.09\n",
            "\n",
            "[119 rows x 8 columns]\n"
          ]
        }
      ],
      "source": [
        "#Extracting the Data\n",
        "import pandas as pd \n",
        "\n",
        "\n",
        "#File was uploaded to google colab and renamed to  FoodBalance.csv\n",
        "path = 'FoodBalance.csv'\n",
        "\n",
        "\n",
        "data = pd.read_csv(path,encoding='utf-8')\n",
        "\n",
        "\n",
        "#Grouping By Item \n",
        "sumValue = data.groupby('Item').sum()\n",
        "\n",
        "#Print the value of sum to Obtain Total sum of animal Fat\n",
        "print(sumValue)"
      ]
    },
    {
      "cell_type": "code",
      "source": [
        "meanValue = data['Y2015'].mean()\n",
        "\n",
        "stdValue = data['Y2015'].std()\n",
        "\n",
        "#Print out the mean and standard deviation value\n",
        "print(f'{meanValue},{stdValue}')"
      ],
      "metadata": {
        "colab": {
          "base_uri": "https://localhost:8080/"
        },
        "id": "FzRx8q5l-6XX",
        "outputId": "2079029c-572c-418e-9aeb-5b650a547e1c"
      },
      "execution_count": 3,
      "outputs": [
        {
          "output_type": "stream",
          "name": "stdout",
          "text": [
            "135.23596649549236,1603.4039839423301\n"
          ]
        }
      ]
    },
    {
      "cell_type": "code",
      "source": [
        "nullcount = data['Y2016'].isnull().sum()\n",
        "\n",
        "#Print out The sum of missing datasets in the Year 2016\n",
        "print(f'{nullcount}')\n",
        "\n",
        "\n",
        "percent_missing = nullcount * 100 / len(data['Y2016'])\n",
        "\n",
        "\n",
        "round_percent = round(percent_missing,2)\n",
        "\n",
        "#Print out The percentage to 2 decimal places of missing datasets in the Year 2016\n",
        "print(round_percent)"
      ],
      "metadata": {
        "colab": {
          "base_uri": "https://localhost:8080/"
        },
        "id": "vef8UohN_FRn",
        "outputId": "e7803551-90cd-4cef-e914-04aca73d45ba"
      },
      "execution_count": 6,
      "outputs": [
        {
          "output_type": "stream",
          "name": "stdout",
          "text": [
            "1535\n",
            "2.52\n"
          ]
        }
      ]
    },
    {
      "cell_type": "code",
      "source": [
        "#Checking the correlation between Element code and 2014 \n",
        "cor_2014 = data['Element Code'].corr(data['Y2014']) \n",
        "\n",
        "print(round(cor_2014,4))"
      ],
      "metadata": {
        "colab": {
          "base_uri": "https://localhost:8080/"
        },
        "id": "CqGVhYVQC47O",
        "outputId": "db9740c7-0db7-4d6f-8a83-b91b798f65b0"
      },
      "execution_count": 15,
      "outputs": [
        {
          "output_type": "stream",
          "name": "stdout",
          "text": [
            "0.0245\n"
          ]
        }
      ]
    },
    {
      "cell_type": "code",
      "source": [
        "#Checking the correlation between Element code and 2015\n",
        "cor_2015 = data['Element Code'].corr(data['Y2015']) \n",
        "\n",
        "print(round(cor_2015,4))"
      ],
      "metadata": {
        "colab": {
          "base_uri": "https://localhost:8080/"
        },
        "id": "bTIsvrmNhxxO",
        "outputId": "17e53171-99d5-4eae-8f68-25269b10e4fc"
      },
      "execution_count": 16,
      "outputs": [
        {
          "output_type": "stream",
          "name": "stdout",
          "text": [
            "0.0239\n"
          ]
        }
      ]
    },
    {
      "cell_type": "code",
      "source": [
        "#Checking the correlation between Element code and 2016\n",
        "cor_2016 = data['Element Code'].corr(data['Y2016']) \n",
        "\n",
        "print(round(cor_2016,4))"
      ],
      "metadata": {
        "colab": {
          "base_uri": "https://localhost:8080/"
        },
        "id": "KYjJS8kQiqFt",
        "outputId": "1213319f-651d-4ce0-afc7-3b0b59102713"
      },
      "execution_count": 17,
      "outputs": [
        {
          "output_type": "stream",
          "name": "stdout",
          "text": [
            "0.0234\n"
          ]
        }
      ]
    },
    {
      "cell_type": "code",
      "source": [
        "#Checking the correlation between Element code and 2015\n",
        "cor_2017 = data['Element Code'].corr(data['Y2017']) \n",
        "\n",
        "print(round(cor_2017,4))"
      ],
      "metadata": {
        "colab": {
          "base_uri": "https://localhost:8080/"
        },
        "id": "qT1kxqu9i0vo",
        "outputId": "c64d0b45-24f1-4812-aede-44f0c90d22a5"
      },
      "execution_count": 18,
      "outputs": [
        {
          "output_type": "stream",
          "name": "stdout",
          "text": [
            "0.0243\n"
          ]
        }
      ]
    },
    {
      "cell_type": "code",
      "source": [
        "#Checking the correlation between Element code and 2015\n",
        "cor_2018 = data['Element Code'].corr(data['Y2018']) \n",
        "\n",
        "print(round(cor_2018,4))"
      ],
      "metadata": {
        "colab": {
          "base_uri": "https://localhost:8080/"
        },
        "id": "84E07Qyji634",
        "outputId": "eacaf437-ecae-4da2-e042-f5713609c36c"
      },
      "execution_count": 19,
      "outputs": [
        {
          "output_type": "stream",
          "name": "stdout",
          "text": [
            "0.0243\n"
          ]
        }
      ]
    },
    {
      "cell_type": "code",
      "source": [
        "#Obtaining the Data for each Year by grouping By Element  \n",
        "\n",
        "year_2014 = data.groupby('Element')['Y2014'].sum()\n",
        "\n",
        "print(year_2014)\n",
        "print('\\n\\n')\n",
        "\n",
        "year_2015 = data.groupby('Element')['Y2015'].sum()\n",
        "\n",
        "print(year_2015)\n",
        "print('\\n\\n')\n",
        "\n",
        "year_2016 = data.groupby('Element')['Y2016'].sum()\n",
        "\n",
        "print(year_2016)\n",
        "print('\\n\\n')\n",
        "\n",
        "year_2017 = data.groupby('Element')['Y2017'].sum()\n",
        "\n",
        "print(year_2017)\n",
        "print('\\n\\n')\n",
        "\n",
        "year_2018 = data.groupby('Element')['Y2018'].sum()\n",
        "\n",
        "print(year_2018)\n",
        "print('\\n\\n')"
      ],
      "metadata": {
        "colab": {
          "base_uri": "https://localhost:8080/"
        },
        "id": "rC7TDUmrjl04",
        "outputId": "2c95c766-77c2-41e9-e76f-197920d2fa95"
      },
      "execution_count": 25,
      "outputs": [
        {
          "output_type": "stream",
          "name": "stdout",
          "text": [
            "Element\n",
            "Domestic supply quantity                  1996716.35\n",
            "Export Quantity                            150020.64\n",
            "Fat supply quantity (g/capita/day)          10225.56\n",
            "Feed                                       216927.89\n",
            "Food                                      1212332.49\n",
            "Food supply (kcal/capita/day)              454257.00\n",
            "Food supply quantity (kg/capita/yr)         49650.63\n",
            "Import Quantity                            274144.48\n",
            "Losses                                     153223.00\n",
            "Other uses (non-food)                       78718.13\n",
            "Processing                                 282923.00\n",
            "Production                                1931287.75\n",
            "Protein supply quantity (g/capita/day)      11836.46\n",
            "Residuals                                   30149.00\n",
            "Seed                                        21922.92\n",
            "Stock Variation                             58749.83\n",
            "Total Population - Both sexes             1031585.00\n",
            "Tourist consumption                           416.00\n",
            "Name: Y2014, dtype: float64\n",
            "\n",
            "\n",
            "\n",
            "Element\n",
            "Domestic supply quantity                  2021493.55\n",
            "Export Quantity                            157614.47\n",
            "Fat supply quantity (g/capita/day)          10235.74\n",
            "Feed                                       225050.22\n",
            "Food                                      1232361.10\n",
            "Food supply (kcal/capita/day)              453383.00\n",
            "Food supply quantity (kg/capita/yr)         49345.13\n",
            "Import Quantity                            267018.46\n",
            "Losses                                     155439.00\n",
            "Other uses (non-food)                       66254.41\n",
            "Processing                                 287929.00\n",
            "Production                                1947019.39\n",
            "Protein supply quantity (g/capita/day)      11833.95\n",
            "Residuals                                   30045.00\n",
            "Seed                                        23976.82\n",
            "Stock Variation                             34910.99\n",
            "Total Population - Both sexes             1058081.00\n",
            "Tourist consumption                           349.00\n",
            "Name: Y2015, dtype: float64\n",
            "\n",
            "\n",
            "\n",
            "Element\n",
            "Domestic supply quantity                  2044842.70\n",
            "Export Quantity                            151920.46\n",
            "Fat supply quantity (g/capita/day)          10102.77\n",
            "Feed                                       228958.65\n",
            "Food                                      1247022.17\n",
            "Food supply (kcal/capita/day)              451810.00\n",
            "Food supply quantity (kg/capita/yr)         48985.28\n",
            "Import Quantity                            286582.78\n",
            "Losses                                     157787.00\n",
            "Other uses (non-food)                       69563.68\n",
            "Processing                                 280631.00\n",
            "Production                                1943537.15\n",
            "Protein supply quantity (g/capita/day)      11779.69\n",
            "Residuals                                   37224.00\n",
            "Seed                                        23389.20\n",
            "Stock Variation                             33140.12\n",
            "Total Population - Both sexes             1085107.00\n",
            "Tourist consumption                            89.00\n",
            "Name: Y2016, dtype: float64\n",
            "\n",
            "\n",
            "\n",
            "Element\n",
            "Domestic supply quantity                  2088198.10\n",
            "Export Quantity                            182338.80\n",
            "Fat supply quantity (g/capita/day)          10253.84\n",
            "Feed                                       223705.68\n",
            "Food                                      1258888.28\n",
            "Food supply (kcal/capita/day)              454681.00\n",
            "Food supply quantity (kg/capita/yr)         48690.04\n",
            "Import Quantity                            294559.09\n",
            "Losses                                     160614.00\n",
            "Other uses (non-food)                       91645.97\n",
            "Processing                                 292836.00\n",
            "Production                                2030056.89\n",
            "Protein supply quantity (g/capita/day)      11842.45\n",
            "Residuals                                   35500.00\n",
            "Seed                                        24870.14\n",
            "Stock Variation                             54316.91\n",
            "Total Population - Both sexes             1112641.00\n",
            "Tourist consumption                            91.00\n",
            "Name: Y2017, dtype: float64\n",
            "\n",
            "\n",
            "\n",
            "Element\n",
            "Domestic supply quantity                  2161192.10\n",
            "Export Quantity                            181594.80\n",
            "Fat supply quantity (g/capita/day)          10258.69\n",
            "Feed                                       233489.68\n",
            "Food                                      1303841.28\n",
            "Food supply (kcal/capita/day)              455261.00\n",
            "Food supply quantity (kg/capita/yr)         49056.85\n",
            "Import Quantity                            287997.09\n",
            "Losses                                     163902.00\n",
            "Other uses (non-food)                       91300.97\n",
            "Processing                                 308429.00\n",
            "Production                                2075072.89\n",
            "Protein supply quantity (g/capita/day)      11833.56\n",
            "Residuals                                   34864.00\n",
            "Seed                                        25263.14\n",
            "Stock Variation                             20577.91\n",
            "Total Population - Both sexes             1140605.00\n",
            "Tourist consumption                            90.00\n",
            "Name: Y2018, dtype: float64\n",
            "\n",
            "\n",
            "\n"
          ]
        }
      ]
    },
    {
      "cell_type": "code",
      "source": [
        "only_year_2018 = data[['Element','Y2018']].groupby('Element').sum()\n",
        "\n",
        "print(only_year_2018)\n",
        "print('\\n\\n')"
      ],
      "metadata": {
        "colab": {
          "base_uri": "https://localhost:8080/"
        },
        "id": "Z--v_aIllkuq",
        "outputId": "f7c8d5cb-a703-49b4-866f-22e4c32d72f4"
      },
      "execution_count": 28,
      "outputs": [
        {
          "output_type": "stream",
          "name": "stdout",
          "text": [
            "                                             Y2018\n",
            "Element                                           \n",
            "Domestic supply quantity                2161192.10\n",
            "Export Quantity                          181594.80\n",
            "Fat supply quantity (g/capita/day)        10258.69\n",
            "Feed                                     233489.68\n",
            "Food                                    1303841.28\n",
            "Food supply (kcal/capita/day)            455261.00\n",
            "Food supply quantity (kg/capita/yr)       49056.85\n",
            "Import Quantity                          287997.09\n",
            "Losses                                   163902.00\n",
            "Other uses (non-food)                     91300.97\n",
            "Processing                               308429.00\n",
            "Production                              2075072.89\n",
            "Protein supply quantity (g/capita/day)    11833.56\n",
            "Residuals                                 34864.00\n",
            "Seed                                      25263.14\n",
            "Stock Variation                           20577.91\n",
            "Total Population - Both sexes           1140605.00\n",
            "Tourist consumption                          90.00\n",
            "\n",
            "\n",
            "\n"
          ]
        }
      ]
    },
    {
      "cell_type": "code",
      "source": [
        "#only_area_2018 = data.groupby('Area')[['Element','Y2018',]].groupby('Element')\n",
        "\n",
        "only_area_2018 = data[['Area','Y2018']].groupby('Area').sum()\n",
        "print(only_area_2018)\n",
        "print('\\n\\n')"
      ],
      "metadata": {
        "colab": {
          "base_uri": "https://localhost:8080/"
        },
        "id": "5f9O22EyoShH",
        "outputId": "42c340b1-ac91-41e5-bcd2-9b7c371f0ba1"
      },
      "execution_count": 41,
      "outputs": [
        {
          "output_type": "stream",
          "name": "stdout",
          "text": [
            "                                  Y2018\n",
            "Area                                   \n",
            "Algeria                       341729.98\n",
            "Angola                        235206.68\n",
            "Benin                         124960.70\n",
            "Botswana                       23129.08\n",
            "Burkina Faso                  112970.72\n",
            "Cabo Verde                     14622.60\n",
            "Cameroon                      233022.93\n",
            "Central African Republic       30101.57\n",
            "Chad                           72282.24\n",
            "Comoros                           59.84\n",
            "Congo                          42005.53\n",
            "Côte d'Ivoire                 227018.00\n",
            "Djibouti                       23718.96\n",
            "Egypt                         852652.92\n",
            "Eswatini                       55045.07\n",
            "Ethiopia                      450788.86\n",
            "Ethiopia PDR                       0.00\n",
            "Gabon                          28339.38\n",
            "Gambia                         23513.80\n",
            "Ghana                         358915.64\n",
            "Guinea                        103262.08\n",
            "Guinea-Bissau                  18997.92\n",
            "Kenya                         270916.80\n",
            "Lesotho                        19109.23\n",
            "Liberia                        29629.83\n",
            "Madagascar                    134576.44\n",
            "Malawi                        187366.09\n",
            "Mali                          159026.42\n",
            "Mauritania                    157479.95\n",
            "Mauritius                      47150.91\n",
            "Morocco                       399271.27\n",
            "Mozambique                    164934.05\n",
            "Namibia                        29350.04\n",
            "Niger                         133982.86\n",
            "Nigeria                      1499774.24\n",
            "Rwanda                         74839.08\n",
            "Sao Tome and Principe          12806.49\n",
            "Senegal                        95493.82\n",
            "Seychelles                       442.34\n",
            "Sierra Leone                   55981.73\n",
            "South Africa                  509787.97\n",
            "Sudan                         268054.39\n",
            "Sudan (former)                     0.00\n",
            "Togo                           54872.00\n",
            "Tunisia                       127343.17\n",
            "Uganda                        222147.25\n",
            "United Republic of Tanzania   349763.41\n",
            "Zambia                        101604.27\n",
            "Zimbabwe                       76581.41\n",
            "\n",
            "\n",
            "\n"
          ]
        }
      ]
    },
    {
      "cell_type": "code",
      "source": [
        "#Total number of unique countries in DataFrame \n",
        "\n",
        "unique_countries = data.groupby('Area')[['Area']]\n",
        "\n",
        "unique_countries_len = len(unique_countries)\n",
        "\n",
        "print(unique_countries_len)\n",
        "print('\\n\\n')"
      ],
      "metadata": {
        "colab": {
          "base_uri": "https://localhost:8080/"
        },
        "id": "7CB97oauqfmU",
        "outputId": "f26fb30c-f8bf-49ad-9e29-6e21aeac6808"
      },
      "execution_count": 35,
      "outputs": [
        {
          "output_type": "stream",
          "name": "stdout",
          "text": [
            "49\n",
            "\n",
            "\n",
            "\n"
          ]
        }
      ]
    }
  ]
}